{
 "cells": [
  {
   "cell_type": "markdown",
   "metadata": {},
   "source": [
    "# Flood risk modelling based on DTM\n",
    "\n",
    "Computational notebook 05 for Climate adaptation plans in the context of coastal settlements: the case of Portugal.\n",
    "\n",
    "Date: 27/06/2020\n",
    "\n",
    "---\n",
    "\n",
    "This notebooks models floor risk under \"what if\" +5 m scenario based on digital terrain model on Portuguese coast provided by Direção-Geral do Território (DGT) - `Modelo Digital do Terreno das Zonas Costeiras de Portugal Continental com resolução de 1 m (400 m em terra) - LiDAR, 2011-12-07`. Unfortunately, we do not hold rights to share the data within this repository.\n",
    "\n",
    "DTM data are stored in separate ASC files based on the grid defined in `MDT1m_LiDAR2011_secciona.shp`.\n",
    "\n",
    "\n",
    "`name_tess` layers require additional attribute `main` to be set to 1 for cells in the first row. Note that this information was not used in the final manuscript.\n",
    "\n",
    "Structure of data:\n",
    "\n",
    "```\n",
    "./data/\n",
    "    atlantic.gpkg\n",
    "        name_blg    - Polygon layers\n",
    "        name_str    - LineString layers\n",
    "        name_case   - Polygon layers\n",
    "        name_tess   - Polygon layers\n",
    "        name_blocks - Polygon layers\n",
    "        ...\n",
    "     preatl.gpkg\n",
    "        name_blg\n",
    "        name_str\n",
    "        name_case\n",
    "        ...\n",
    "     premed.gpkg\n",
    "        name_blg\n",
    "        name_str\n",
    "        name_case\n",
    "        ...\n",
    "     med.gpkg\n",
    "        name_blg\n",
    "        name_str\n",
    "        name_case\n",
    "        ...\n",
    "./MDT/\n",
    "    MDT1m_LiDAR2011_secciona.shp\n",
    "    002_1_55-top_orto.asc\n",
    "    002_2_53-top_orto.asc\n",
    "    ...\n",
    "```\n",
    "\n",
    "CRS of the original data is EPSG:3763.\n",
    "\n",
    "```\n",
    "<Projected CRS: EPSG:3763>\n",
    "Name: ETRS89 / Portugal TM06\n",
    "Axis Info [cartesian]:\n",
    "- X[east]: Easting (metre)\n",
    "- Y[north]: Northing (metre)\n",
    "Area of Use:\n",
    "- name: Portugal - mainland - onshore\n",
    "- bounds: (-9.56, 36.95, -6.19, 42.16)\n",
    "Coordinate Operation:\n",
    "- name: Portugual TM06\n",
    "- method: Transverse Mercator\n",
    "Datum: European Terrestrial Reference System 1989\n",
    "- Ellipsoid: GRS 1980\n",
    "- Prime Meridian: Greenwich\n",
    "```"
   ]
  },
  {
   "cell_type": "code",
   "execution_count": 1,
   "metadata": {},
   "outputs": [],
   "source": [
    "import geopandas as gpd\n",
    "import rasterio as rio\n",
    "from rasterio.merge import merge\n",
    "import rasterstats\n",
    "import pandas as pd\n",
    "import numpy as np\n",
    "import fiona"
   ]
  },
  {
   "cell_type": "code",
   "execution_count": 2,
   "metadata": {},
   "outputs": [
    {
     "data": {
      "text/plain": [
       "('1.8.13', '0.7.0', '1.1.3', '0.14.0', '1.18.1', '1.0.3')"
      ]
     },
     "execution_count": 2,
     "metadata": {},
     "output_type": "execute_result"
    }
   ],
   "source": [
    "fiona.__version__, gpd.__version__, rio.__version__, rasterstats.__version__, np.__version__, pd.__version__"
   ]
  },
  {
   "cell_type": "code",
   "execution_count": 174,
   "metadata": {},
   "outputs": [],
   "source": [
    "grid = gpd.read_file('MDT/MDT1m_LiDAR2011_secciona.shp')"
   ]
  },
  {
   "cell_type": "code",
   "execution_count": 197,
   "metadata": {},
   "outputs": [],
   "source": [
    "folder = '/Users/martin/Dropbox/Academia/Data/Geo/Portugal/'"
   ]
  },
  {
   "cell_type": "code",
   "execution_count": 201,
   "metadata": {},
   "outputs": [
    {
     "name": "stdout",
     "output_type": "stream",
     "text": [
      "atlantic foz done\n",
      "atlantic aguda done\n",
      "atlantic esposende done\n",
      "atlantic espinho done\n",
      "atlantic povoa done\n",
      "atlantic vila_do_conde done\n",
      "atlantic vila_praia done\n",
      "preatl costa_nova done\n",
      "preatl praia_mira done\n",
      "preatl palheiros done\n",
      "preatl figueira_foz done\n",
      "preatl pedrogao done\n",
      "preatl sao_martinho done\n",
      "preatl ericeira done\n",
      "preatl azenhas done\n",
      "preatl quaios done\n",
      "preatl vieira done\n",
      "preatl foradouro done\n",
      "preatl nazare done\n",
      "premed cascais done\n",
      "premed costa_caparica done\n",
      "premed praia_corvoeiro done\n",
      "premed zambujeira done\n",
      "premed sesimbra done\n",
      "med armacao done\n",
      "med olhao done\n",
      "med monte_gordo done\n",
      "med albufeira done\n",
      "med faro done\n",
      "med quarteira done\n"
     ]
    }
   ],
   "source": [
    "parts = ['atlantic', 'preatl', 'premed', 'med']\n",
    "for part in parts:\n",
    "    path = folder + part + '.gpkg'\n",
    "    layers = [x[:-4] for x in fiona.listlayers(path) if 'blg' in x]\n",
    "    for l in layers:\n",
    "        blg = gpd.read_file(path, layer=l + '_blg')\n",
    "        case = gpd.read_file(path, layer=l + '_case')\n",
    "        \n",
    "        rparts = grid[grid.intersects(case.unary_union)].Id_Unidade\n",
    "        rasters = []\n",
    "        for rpart in rparts:\n",
    "            rpath = 'MDT/' + rpart + '-top_orto.asc'\n",
    "            rasters.append(rio.open(rpath))\n",
    "        if len(rasters) > 1:\n",
    "            array, affine = merge(rasters)\n",
    "            stats = rasterstats.zonal_stats(blg, array[0], affine=affine, stats=['min', 'max', 'median', 'mean', 'count'])\n",
    "        else:\n",
    "            stats = rasterstats.zonal_stats(blg, rasters[0].read(1), affine=rasters[0].transform, stats=['min', 'max', 'median', 'mean', 'count'])\n",
    "        if 'min' in blg.columns:\n",
    "            blg = blg.drop(columns=['min', 'max', 'median', 'mean', 'count'])\n",
    "        blg = blg.join(pd.DataFrame(stats))\n",
    "        blg.to_file(path, layer=l + '_blg', driver='GPKG')\n",
    "        print(part, l, 'done')"
   ]
  },
  {
   "cell_type": "code",
   "execution_count": 210,
   "metadata": {},
   "outputs": [
    {
     "name": "stdout",
     "output_type": "stream",
     "text": [
      "atlantic foz - NaN in min: 0 / 482\n",
      "atlantic aguda - NaN in min: 0 / 255\n",
      "atlantic esposende - NaN in min: 0 / 81\n",
      "atlantic espinho - NaN in min: 0 / 485\n",
      "atlantic povoa - NaN in min: 0 / 393\n",
      "atlantic vila_do_conde - NaN in min: 0 / 320\n",
      "atlantic vila_praia - NaN in min: 0 / 197\n",
      "preatl costa_nova - NaN in min: 0 / 560\n",
      "preatl praia_mira - NaN in min: 0 / 496\n",
      "preatl palheiros - NaN in min: 0 / 176\n",
      "preatl figueira_foz - NaN in min: 232 / 842\n",
      "preatl pedrogao - NaN in min: 0 / 233\n",
      "preatl sao_martinho - NaN in min: 0 / 150\n",
      "preatl ericeira - NaN in min: 0 / 258\n",
      "preatl azenhas - NaN in min: 0 / 65\n",
      "preatl quaios - NaN in min: 0 / 200\n",
      "preatl vieira - NaN in min: 0 / 469\n",
      "preatl foradouro - NaN in min: 0 / 238\n",
      "preatl nazare - NaN in min: 0 / 738\n",
      "premed cascais - NaN in min: 0 / 273\n",
      "premed costa_caparica - NaN in min: 0 / 488\n",
      "premed praia_corvoeiro - NaN in min: 0 / 277\n",
      "premed zambujeira - NaN in min: 0 / 286\n",
      "premed sesimbra - NaN in min: 0 / 426\n",
      "med armacao - NaN in min: 0 / 401\n",
      "med olhao - NaN in min: 146 / 146\n",
      "med monte_gordo - NaN in min: 2 / 103\n",
      "med albufeira - NaN in min: 0 / 383\n",
      "med faro - NaN in min: 279 / 279\n",
      "med quarteira - NaN in min: 0 / 269\n"
     ]
    }
   ],
   "source": [
    "parts = ['atlantic', 'preatl', 'premed', 'med']\n",
    "for part in parts:\n",
    "    path = folder + part + '.gpkg'\n",
    "    layers = [x[:-4] for x in fiona.listlayers(path) if 'blg' in x]\n",
    "    for l in layers:\n",
    "        blg = gpd.read_file(path, layer=l + '_blg')\n",
    "        blg = blg.replace(-999, np.nan)\n",
    "        print(part, l, '- NaN in min:', blg['min'].isna().sum(), '/', len(blg))"
   ]
  },
  {
   "cell_type": "code",
   "execution_count": 213,
   "metadata": {},
   "outputs": [
    {
     "name": "stdout",
     "output_type": "stream",
     "text": [
      "atlantic foz 0 0.0\n",
      "atlantic aguda 2 0.00784313725490196\n",
      "atlantic esposende 20 0.24691358024691357\n",
      "atlantic espinho 0 0.0\n",
      "atlantic povoa 27 0.06870229007633588\n",
      "atlantic vila_do_conde 0 0.0\n",
      "atlantic vila_praia 7 0.03553299492385787\n",
      "preatl costa_nova 324 0.5785714285714286\n",
      "preatl praia_mira 40 0.08064516129032258\n",
      "preatl palheiros 2 0.011363636363636364\n",
      "preatl figueira_foz 67 0.07957244655581948\n",
      "preatl pedrogao 0 0.0\n",
      "preatl sao_martinho 136 0.9066666666666666\n",
      "preatl ericeira 0 0.0\n",
      "preatl azenhas 0 0.0\n",
      "preatl quaios 0 0.0\n",
      "preatl vieira 136 0.2899786780383795\n",
      "preatl foradouro 79 0.3319327731092437\n",
      "preatl nazare 74 0.1002710027100271\n",
      "premed cascais 69 0.25274725274725274\n",
      "premed costa_caparica 362 0.7418032786885246\n",
      "premed praia_corvoeiro 4 0.01444043321299639\n",
      "premed zambujeira 0 0.0\n",
      "premed sesimbra 33 0.07746478873239436\n",
      "med armacao 112 0.2793017456359102\n",
      "med olhao 0 0.0\n",
      "med monte_gordo 52 0.5048543689320388\n",
      "med albufeira 9 0.02349869451697128\n",
      "med faro 0 0.0\n",
      "med quarteira 110 0.40892193308550184\n"
     ]
    }
   ],
   "source": [
    "parts = ['atlantic', 'preatl', 'premed', 'med']\n",
    "for part in parts:\n",
    "    path = folder + part + '.gpkg'\n",
    "    layers = [x[:-4] for x in fiona.listlayers(path) if 'blg' in x]\n",
    "    for l in layers:\n",
    "        blg = gpd.read_file(path, layer=l + '_blg')\n",
    "        blg = blg.replace(-999, np.nan)\n",
    "        print(part, l, (blg['min']< 5).sum(), (blg['min']< 5).sum() / len(blg))"
   ]
  },
  {
   "cell_type": "code",
   "execution_count": 249,
   "metadata": {},
   "outputs": [],
   "source": [
    "waterrelation = pd.DataFrame()"
   ]
  },
  {
   "cell_type": "code",
   "execution_count": 251,
   "metadata": {},
   "outputs": [],
   "source": [
    "parts = ['atlantic', 'preatl', 'premed', 'med']\n",
    "for part in parts:\n",
    "    path = folder + part + '.gpkg'\n",
    "    layers = [x[:-4] for x in fiona.listlayers(path) if 'blg' in x]\n",
    "    for l in layers:\n",
    "        buildings = gpd.read_file(path, layer=l + '_blg')\n",
    "        tessellation = gpd.read_file(path, layer=l + '_tess')\n",
    "        \n",
    "        buildings = buildings.merge(tessellation[['uID', 'main']], on='uID', how='left')\n",
    "        if 'main' not in buildings.columns:\n",
    "            import warnings\n",
    "            warnings.warn(l)\n",
    "        main = buildings[buildings['main'] == 1]\n",
    "        \n",
    "        if 'part' in main.columns:\n",
    "            for part in set(main.part):\n",
    "                subset = main.loc[main.part == part]\n",
    "                mainset = buildings.loc[buildings.part == part]\n",
    "                \n",
    "                waterrelation.loc[l + str(part), 'min' + '_min'] = subset['min'].min()\n",
    "                waterrelation.loc[l + str(part), 'min' + '_med'] = subset['min'].median()   \n",
    "                waterrelation.loc[l + str(part), 'flooded_perc'] = (mainset['min']< 5).sum() / len(mainset)\n",
    "    \n",
    "        else:\n",
    "            waterrelation.loc[l, 'min' + '_min'] = main['min'].min()\n",
    "            waterrelation.loc[l, 'min' + '_med'] = main['min'].median()  \n",
    "            waterrelation.loc[l, 'flooded_perc'] = (buildings['min']< 5).sum() / len(buildings)\n",
    "\n"
   ]
  },
  {
   "cell_type": "code",
   "execution_count": 253,
   "metadata": {},
   "outputs": [],
   "source": [
    "waterrelation.to_csv('data/waterrelation_data.csv')"
   ]
  }
 ],
 "metadata": {
  "kernelspec": {
   "display_name": "seashore_streets",
   "language": "python",
   "name": "seashore_streets"
  },
  "language_info": {
   "codemirror_mode": {
    "name": "ipython",
    "version": 3
   },
   "file_extension": ".py",
   "mimetype": "text/x-python",
   "name": "python",
   "nbconvert_exporter": "python",
   "pygments_lexer": "ipython3",
   "version": "3.8.2"
  }
 },
 "nbformat": 4,
 "nbformat_minor": 4
}