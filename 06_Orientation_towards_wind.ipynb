{
 "cells": [
  {
   "cell_type": "markdown",
   "metadata": {},
   "source": [
    "# Measure orientation of seashore streets in relation to SW wind\n",
    "\n",
    "Computational notebook 06 for _NAME_ Dal Cin, Fleischmann.. - ADD Reference.\n",
    "\n",
    "Contact: martin@martinfleischmann.net\n",
    "\n",
    "Date: 27/03/2020\n",
    "\n",
    "---\n",
    "\n",
    "This notebook computes deviation of seashore street orientation from SW wind direction (45 degrees). \n",
    "\n",
    "Requires attribute `case` in `name_str` capturing which LineStrings form the seashore street itself. (1 - True) (already used in `03_Calculate_contextual_characters.ipynb`.\n",
    "\n",
    "Structure of GeoPackages:\n",
    "\n",
    "```\n",
    "./data/\n",
    "    atlantic.gpkg\n",
    "        name_blg    - Polygon layers\n",
    "        name_str    - LineString layers\n",
    "        name_case   - Polygon layers\n",
    "        name_tess   - Polygon layers\n",
    "        name_blocks - Polygon layers\n",
    "        ...\n",
    "     preatl.gpkg\n",
    "        name_blg\n",
    "        name_str\n",
    "        name_case\n",
    "        ...\n",
    "     premed.gpkg\n",
    "        name_blg\n",
    "        name_str\n",
    "        name_case\n",
    "        ...\n",
    "     med.gpkg\n",
    "        name_blg\n",
    "        name_str\n",
    "        name_case\n",
    "        ...\n",
    "```\n",
    "\n",
    "CRS of the original data is EPSG:3763.\n",
    "\n",
    "```\n",
    "<Projected CRS: EPSG:3763>\n",
    "Name: ETRS89 / Portugal TM06\n",
    "Axis Info [cartesian]:\n",
    "- X[east]: Easting (metre)\n",
    "- Y[north]: Northing (metre)\n",
    "Area of Use:\n",
    "- name: Portugal - mainland - onshore\n",
    "- bounds: (-9.56, 36.95, -6.19, 42.16)\n",
    "Coordinate Operation:\n",
    "- name: Portugual TM06\n",
    "- method: Transverse Mercator\n",
    "Datum: European Terrestrial Reference System 1989\n",
    "- Ellipsoid: GRS 1980\n",
    "- Prime Meridian: Greenwich\n",
    "```"
   ]
  },
  {
   "cell_type": "code",
   "execution_count": 1,
   "metadata": {},
   "outputs": [],
   "source": [
    "import fiona\n",
    "import geopandas as gpd\n",
    "import shapely\n",
    "import numpy as np\n",
    "import pandas as pd"
   ]
  },
  {
   "cell_type": "code",
   "execution_count": 2,
   "metadata": {},
   "outputs": [
    {
     "data": {
      "text/plain": [
       "('1.8.13', '0.7.0', '1.7.0', '1.18.1', '1.0.3')"
      ]
     },
     "execution_count": 2,
     "metadata": {},
     "output_type": "execute_result"
    }
   ],
   "source": [
    "fiona.__version__, gpd.__version__, shapely.__version__, np.__version__, pd.__version__"
   ]
  },
  {
   "cell_type": "code",
   "execution_count": null,
   "metadata": {},
   "outputs": [],
   "source": [
    "from shapely.ops import linemerge\n",
    "\n",
    "def wind_issue(line, wind_angle=45):\n",
    "    coords = line.coords\n",
    "    angle = np.arctan2(coords[-1][0] - coords[0][0], coords[-1][1] - coords[0][1])\n",
    "    az = np.degrees(angle)\n",
    "    \n",
    "    if az < wind_angle:\n",
    "        az += 180\n",
    "    az -= wind_angle\n",
    "    if az < 0:\n",
    "        az = az * -1\n",
    "    if 90 < az <= 180:\n",
    "        diff = az - 90\n",
    "        az = az - 2 * diff\n",
    "    return az / 90\n",
    "\n",
    "\n",
    "wind = pd.DataFrame(columns=['place', 'winddev'])\n",
    "ix = 0\n",
    "\n",
    "parts = ['atlantic', 'preatl', 'premed', 'med']\n",
    "\n",
    "for part in parts:\n",
    "    path = folder + part + '.gpkg'\n",
    "    layers = [x[:-4] for x in fiona.listlayers(path) if 'blg' in x]\n",
    "    for l in layers:\n",
    "        streets = gpd.read_file(path, layer=l + '_str')\n",
    "        seashore = streets[streets.case == 1].geometry.to_list()\n",
    "        merged = linemerge(seashore)\n",
    "        if merged.type != 'LineString':\n",
    "            dims = {}\n",
    "            for i, seg in enumerate(merged):\n",
    "                dims[i] = seg.length\n",
    "            key = max(dims, key=dims.get)\n",
    "            wind.loc[ix] = [l, wind_issue(merged[key])]\n",
    "            ix += 1\n",
    "        else:\n",
    "            wind.loc[ix] = [l, wind_issue(merged)]\n",
    "            ix += 1"
   ]
  },
  {
   "cell_type": "code",
   "execution_count": null,
   "metadata": {},
   "outputs": [],
   "source": [
    "wind.to_csv(folder + 'wind_relation.csv')"
   ]
  }
 ],
 "metadata": {
  "kernelspec": {
   "display_name": "seashore_streets",
   "language": "python",
   "name": "seashore_streets"
  },
  "language_info": {
   "codemirror_mode": {
    "name": "ipython",
    "version": 3
   },
   "file_extension": ".py",
   "mimetype": "text/x-python",
   "name": "python",
   "nbconvert_exporter": "python",
   "pygments_lexer": "ipython3",
   "version": "3.8.2"
  }
 },
 "nbformat": 4,
 "nbformat_minor": 4
}
