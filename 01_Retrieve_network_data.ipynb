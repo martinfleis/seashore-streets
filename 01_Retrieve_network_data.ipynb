{
 "cells": [
  {
   "cell_type": "markdown",
   "metadata": {},
   "source": [
    "# Extract street networks from OpenStreetMap\n",
    "\n",
    "Computational notebook 01 for Climate adaptation plans in the context of coastal settlements: the case of Portugal.\n",
    "\n",
    "Date: 27/06/2020\n",
    "\n",
    "---\n",
    "\n",
    "Input data contains manually digitised building footprints stored in geopackages divided according to geographical locations (following division proposed by Ribeiro (1945)).\n",
    "\n",
    "Structure of GeoPackages:\n",
    "\n",
    "```\n",
    "./data/\n",
    "    atlantic.gpkg\n",
    "        name_blg  - Polygon layers\n",
    "        name_blg\n",
    "        name_blg\n",
    "        ...\n",
    "     preatl.gpkg\n",
    "        name_blg\n",
    "        name_blg\n",
    "        name_blg\n",
    "        ...\n",
    "     premed.gpkg\n",
    "        name_blg\n",
    "        name_blg\n",
    "        name_blg\n",
    "        ...\n",
    "     med.gpkg\n",
    "        name_blg\n",
    "        name_blg\n",
    "        name_blg\n",
    "        ...\n",
    "```\n",
    "\n",
    "CRS of the original data is EPSG:3763.\n",
    "\n",
    "```\n",
    "<Projected CRS: EPSG:3763>\n",
    "Name: ETRS89 / Portugal TM06\n",
    "Axis Info [cartesian]:\n",
    "- X[east]: Easting (metre)\n",
    "- Y[north]: Northing (metre)\n",
    "Area of Use:\n",
    "- name: Portugal - mainland - onshore\n",
    "- bounds: (-9.56, 36.95, -6.19, 42.16)\n",
    "Coordinate Operation:\n",
    "- name: Portugual TM06\n",
    "- method: Transverse Mercator\n",
    "Datum: European Terrestrial Reference System 1989\n",
    "- Ellipsoid: GRS 1980\n",
    "- Prime Meridian: Greenwich\n",
    "```\n",
    "\n",
    "This notebook downloads and clips street network within 2500m radius around input data convex hull. During the extraction it plots resulting layers for visual inspection."
   ]
  },
  {
   "cell_type": "code",
   "execution_count": 4,
   "metadata": {},
   "outputs": [],
   "source": [
    "import fiona\n",
    "import geopandas as gpd\n",
    "import osmnx as ox\n",
    "import matplotlib\n",
    "import matplotlib.pyplot as plt"
   ]
  },
  {
   "cell_type": "code",
   "execution_count": 5,
   "metadata": {},
   "outputs": [
    {
     "data": {
      "text/plain": [
       "('1.8.13', '0.7.0', '0.11.4', '3.2.1')"
      ]
     },
     "execution_count": 5,
     "metadata": {},
     "output_type": "execute_result"
    }
   ],
   "source": [
    "fiona.__version__, gpd.__version__, ox.__version__, matplotlib.__version__"
   ]
  },
  {
   "cell_type": "code",
   "execution_count": 2,
   "metadata": {},
   "outputs": [],
   "source": [
    "parts = ['atlantic', 'preatl', 'premed', 'med']\n",
    "folder = 'data/'\n",
    "\n",
    "for part in parts:\n",
    "    path = folder + part + '.gpkg'\n",
    "    layers = [x for x in fiona.listlayers(path) if 'blg' in x]\n",
    "    \n",
    "    for l in layers:\n",
    "        print(l)\n",
    "        blg = gpd.read_file(path, layer=l)\n",
    "        union = gpd.GeoSeries(blg.buffer(0).unary_union.centroid, crs=blg.crs).to_crs(epsg=4326).iloc[0]\n",
    "        location_point = (union.y, union.x)\n",
    "\n",
    "        streets_graph = ox.graph_from_point(location_point, distance=5000, distance_type='bbox', network_type='drive')\n",
    "        streets_graph = ox.project_graph(streets_graph)\n",
    "        streets_graph = ox.get_undirected(streets_graph)\n",
    "\n",
    "        edges = ox.save_load.graph_to_gdfs(streets_graph, nodes=False, edges=True,\n",
    "                                           node_geometry=False, fill_edge_geometry=True)\n",
    "\n",
    "        edges = edges.to_crs(epsg=3763)\n",
    "\n",
    "        clip = blg.unary_union.convex_hull.buffer(2500)\n",
    "\n",
    "        clipped_edges = edges.intersection(clip)\n",
    "\n",
    "        clipped_edges = clipped_edges.loc[~clipped_edges.is_empty]\n",
    "\n",
    "        ax = clipped_edges.plot(linewidth=0.2, figsize=(16, 16))\n",
    "        blg.plot(ax=ax, color='r')\n",
    "\n",
    "        clipped_edges.to_file(path, layer=l[:-3] + 'str', driver='GPKG')"
   ]
  }
 ],
 "metadata": {
  "kernelspec": {
   "display_name": "seashore_streets",
   "language": "python",
   "name": "seashore_streets"
  },
  "language_info": {
   "codemirror_mode": {
    "name": "ipython",
    "version": 3
   },
   "file_extension": ".py",
   "mimetype": "text/x-python",
   "name": "python",
   "nbconvert_exporter": "python",
   "pygments_lexer": "ipython3",
   "version": "3.8.2"
  }
 },
 "nbformat": 4,
 "nbformat_minor": 4
}